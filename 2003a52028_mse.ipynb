{
  "nbformat": 4,
  "nbformat_minor": 0,
  "metadata": {
    "colab": {
      "name": "2003a52028_mse",
      "provenance": [],
      "collapsed_sections": []
    },
    "kernelspec": {
      "name": "python3",
      "display_name": "Python 3"
    },
    "language_info": {
      "name": "python"
    }
  },
  "cells": [
    {
      "cell_type": "code",
      "metadata": {
        "id": "iMqV_BExgOfN"
      },
      "source": [
        "import pandas as pd"
      ],
      "execution_count": null,
      "outputs": []
    },
    {
      "cell_type": "code",
      "metadata": {
        "colab": {
          "base_uri": "https://localhost:8080/"
        },
        "id": "o-mjh6YdgZ6R",
        "outputId": "21eaeed5-0460-40d4-e498-898ff27b2a02"
      },
      "source": [
        "from google.colab import drive\n",
        "drive.mount('/content/grive')"
      ],
      "execution_count": null,
      "outputs": [
        {
          "output_type": "stream",
          "name": "stdout",
          "text": [
            "Mounted at /content/grive\n"
          ]
        }
      ]
    },
    {
      "cell_type": "code",
      "metadata": {
        "colab": {
          "base_uri": "https://localhost:8080/",
          "height": 265
        },
        "id": "6U3z_SQBghVM",
        "outputId": "2530982b-b184-4d75-cb1f-dca3a8bce931"
      },
      "source": [
        "import matplotlib.pyplot as plt\n",
        "\n",
        "x = [3.2,3.2,3.7,3.9,4,4,4.1,4.5,4.9,5.1,5.3,5.9,6]\n",
        "y = [54445,64445,57189,63218,55794,56957,57081,61111,67938,66029,83088,81363,93940]\n",
        "\n",
        "plt.scatter(x,y)\n",
        "plt.show()"
      ],
      "execution_count": null,
      "outputs": [
        {
          "output_type": "display_data",
          "data": {
            "image/png": "[encoded data removed]",
            "text/plain": [
              "<Figure size 432x288 with 1 Axes>"
            ]
          },
          "metadata": {
            "needs_background": "light"
          }
        }
      ]
    },
    {
      "cell_type": "code",
      "metadata": {
        "colab": {
          "base_uri": "https://localhost:8080/"
        },
        "id": "zHJ7yJkjrbf9",
        "outputId": "6be60e3b-bd9a-4fc3-e306-4f1a45ab2f09"
      },
      "source": [
        "import numpy as np\n",
        "x1=[3.2,3.2,3.7,3.9,4,4,4.1,4.5,4.9,5.1,5.3,5.9,6]\n",
        "y=[54445,64445,57189,63218,55794,56957,57081,61111,67938,66029,83088,81363,93940]\n",
        "yp=[]\n",
        "e=[]\n",
        "m=[1235,1500,1850,2000]\n",
        "c=[1900,1950,2000,2100]\n",
        "def linear(m,c):\n",
        "  sum=0\n",
        "  for i in range(0,len(x1)):\n",
        "    yp.append(m*x1[i]+c)\n",
        "    g=(y[i]-yp[i])**2\n",
        "    sum=sum+g\n",
        "    e.append(g)\n",
        "    print('Mean square error is :',np.mod(sum,len(x1)))\n",
        "    sum=0    \n",
        "for i in range(0,1):\n",
        "   linear(m[i],c[i])"
      ],
      "execution_count": null,
      "outputs": [
        {
          "output_type": "stream",
          "name": "stdout",
          "text": [
            "Mean square error is : 1.0\n",
            "Mean square error is : 4.0\n",
            "Mean square error is : 3.25\n",
            "Mean square error is : 12.25\n",
            "Mean square error is : 3\n",
            "Mean square error is : 4\n",
            "Mean square error is : 6.25\n",
            "Mean square error is : 6.25\n",
            "Mean square error is : 7.25\n",
            "Mean square error is : 3.25\n",
            "Mean square error is : 12.25\n",
            "Mean square error is : 0.25\n",
            "Mean square error is : 0\n"
          ]
        }
      ]
    }
  ]
}